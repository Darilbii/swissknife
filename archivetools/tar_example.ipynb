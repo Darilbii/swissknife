{
 "cells": [
  {
   "cell_type": "code",
   "execution_count": 2,
   "metadata": {
    "collapsed": true
   },
   "outputs": [
    {
     "ename": "ImportError",
     "evalue": "No module named archivetools",
     "traceback": [
      "\u001b[0;31m\u001b[0m",
      "\u001b[0;31mImportError\u001b[0mTraceback (most recent call last)",
      "\u001b[0;32m<ipython-input-2-c9398a178a2d>\u001b[0m in \u001b[0;36m<module>\u001b[0;34m()\u001b[0m\n\u001b[0;32m----> 1\u001b[0;31m \u001b[0;32mfrom\u001b[0m \u001b[0marchivetools\u001b[0m \u001b[0;32mimport\u001b[0m \u001b[0mtar\u001b[0m \u001b[0;32mas\u001b[0m \u001b[0mtt\u001b[0m\u001b[0;34m\u001b[0m\u001b[0m\n\u001b[0m",
      "\u001b[0;31mImportError\u001b[0m: No module named archivetools"
     ],
     "output_type": "error"
    }
   ],
   "source": [
    "import shutil\n",
    "from archivetools import tar as tt"
   ]
  },
  {
   "cell_type": "code",
   "execution_count": null,
   "metadata": {},
   "outputs": [],
   "source": [
    "source_folder = os.path.abspath('/usr/local/scratchpad/raw/bird/session')\n",
    "tmp_folder = os.path.abspath('/usr/local/scartchpad/tmp')\n",
    "dest_folder = os.path.abspath('/mnt/cube/earneodo/archive/raw/bird')\n",
    "\n",
    "# compress the contents of source_folder into a triad:\n",
    "#  - session.tar.xz (tar archive with the contents of the session folder)\n",
    "#  - session.mdl (csv list list of name, md5checksum of all the contents)\n",
    "#  - session.md5 (just the md5checksum of the .tar.xz archive)\n",
    "# located in tmp_folder/session\n",
    "check_list, check_ok = tt.compress_folder(source_folder, tmp_folder, mode='w:xz')\n",
    "\n",
    "# check_list is a list of lists [name, md5 checksum]\n",
    "# check_ok is True if the md5checksum of all the files in the archive\n",
    "# (computed post-hoc) coincide with the ones in check_list\n",
    "\n",
    "# Mind that all the files are read (chunked) several times,\n",
    "# hence you want to do the compression/check in a local scratchpad\n",
    "# rather than over a samba share.\n",
    "\n",
    "# If everything checks, move the archive from tmp to its final dest.\n",
    "assert (check_ok), \"There were errors compressing the file\"\n",
    "shutil.move(tmp_folder, dest_folder)"
   ]
  }
 ],
 "metadata": {
  "kernelspec": {
   "display_name": "Python 2",
   "language": "python",
   "name": "python2"
  },
  "language_info": {
   "codemirror_mode": {
    "name": "ipython",
    "version": 2.0
   },
   "file_extension": ".py",
   "mimetype": "text/x-python",
   "name": "python",
   "nbconvert_exporter": "python",
   "pygments_lexer": "ipython2",
   "version": "2.7.6"
  }
 },
 "nbformat": 4,
 "nbformat_minor": 0
}